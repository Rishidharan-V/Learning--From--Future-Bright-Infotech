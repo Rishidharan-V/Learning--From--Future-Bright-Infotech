{
 "cells": [
  {
   "cell_type": "code",
   "execution_count": null,
   "id": "166bc79f",
   "metadata": {},
   "outputs": [],
   "source": [
    "# Assignment: Sum of Positive Numbers \n",
    "\n",
    "# Topic: while loop, continue\n",
    "\n",
    "# Goal: Keep summing numbers until 0 is entered. Skip negative numbers.\n",
    "\n",
    "\n",
    "total = 0\n",
    "\n",
    "while True:\n",
    "    num = int(input(\"Enter a number (0 to stop): \"))\n",
    "    \n",
    "    if num == 0:\n",
    "        break\n",
    "    if num < 0:\n",
    "        print(\"Negative number ignored.\")\n",
    "        continue\n",
    "    \n",
    "    total += num\n",
    "\n",
    "print(\"Total sum of positive numbers:\", total)\n",
    "\n",
    "\n",
    "\n"
   ]
  },
  {
   "cell_type": "code",
   "execution_count": null,
   "id": "afdc0e2a",
   "metadata": {},
   "outputs": [],
   "source": []
  },
  {
   "cell_type": "code",
   "execution_count": null,
   "id": "9cc4d712",
   "metadata": {},
   "outputs": [],
   "source": []
  },
  {
   "cell_type": "code",
   "execution_count": null,
   "id": "b73a13c7",
   "metadata": {},
   "outputs": [],
   "source": []
  },
  {
   "cell_type": "code",
   "execution_count": null,
   "id": "53ac8f3c",
   "metadata": {},
   "outputs": [],
   "source": []
  },
  {
   "cell_type": "code",
   "execution_count": null,
   "id": "5fa9e5a4",
   "metadata": {},
   "outputs": [],
   "source": []
  },
  {
   "cell_type": "code",
   "execution_count": null,
   "id": "cbd9c296",
   "metadata": {},
   "outputs": [],
   "source": []
  }
 ],
 "metadata": {
  "kernelspec": {
   "display_name": "base",
   "language": "python",
   "name": "python3"
  },
  "language_info": {
   "codemirror_mode": {
    "name": "ipython",
    "version": 3
   },
   "file_extension": ".py",
   "mimetype": "text/x-python",
   "name": "python",
   "nbconvert_exporter": "python",
   "pygments_lexer": "ipython3",
   "version": "3.12.4"
  }
 },
 "nbformat": 4,
 "nbformat_minor": 5
}
