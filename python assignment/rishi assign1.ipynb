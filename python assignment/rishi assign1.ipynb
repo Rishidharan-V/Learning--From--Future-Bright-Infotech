{
 "cells": [
  {
   "cell_type": "code",
   "execution_count": null,
   "id": "166bc79f",
   "metadata": {},
   "outputs": [],
   "source": [
    "# Ask for name and age\n",
    "name = input(\"Enter your name: \")\n",
    "age_input = input(\"Enter your age: \")"
   ]
  },
  {
   "cell_type": "code",
   "execution_count": null,
   "id": "4abd5b55",
   "metadata": {},
   "outputs": [],
   "source": [
    "# Convert age to integer\n",
    "age = int(age_input)"
   ]
  },
  {
   "cell_type": "code",
   "execution_count": null,
   "id": "06785091",
   "metadata": {},
   "outputs": [],
   "source": [
    "# Print values\n",
    "print(\"Name:\", name)\n",
    "print(\"Age:\", age)"
   ]
  },
  {
   "cell_type": "code",
   "execution_count": null,
   "id": "85384a18",
   "metadata": {},
   "outputs": [],
   "source": [
    "# Print types\n",
    "\n",
    "print(\"Type of name:\", type(name))\n",
    "print(\"Type of age:\", type(age))"
   ]
  },
  {
   "cell_type": "code",
   "execution_count": null,
   "id": "afdc0e2a",
   "metadata": {},
   "outputs": [],
   "source": []
  },
  {
   "cell_type": "code",
   "execution_count": null,
   "id": "9cc4d712",
   "metadata": {},
   "outputs": [],
   "source": []
  },
  {
   "cell_type": "code",
   "execution_count": null,
   "id": "b73a13c7",
   "metadata": {},
   "outputs": [],
   "source": []
  },
  {
   "cell_type": "code",
   "execution_count": null,
   "id": "53ac8f3c",
   "metadata": {},
   "outputs": [],
   "source": []
  },
  {
   "cell_type": "code",
   "execution_count": null,
   "id": "5fa9e5a4",
   "metadata": {},
   "outputs": [],
   "source": []
  },
  {
   "cell_type": "code",
   "execution_count": null,
   "id": "cbd9c296",
   "metadata": {},
   "outputs": [],
   "source": []
  }
 ],
 "metadata": {
  "kernelspec": {
   "display_name": "base",
   "language": "python",
   "name": "python3"
  },
  "language_info": {
   "codemirror_mode": {
    "name": "ipython",
    "version": 3
   },
   "file_extension": ".py",
   "mimetype": "text/x-python",
   "name": "python",
   "nbconvert_exporter": "python",
   "pygments_lexer": "ipython3",
   "version": "3.12.4"
  }
 },
 "nbformat": 4,
 "nbformat_minor": 5
}
