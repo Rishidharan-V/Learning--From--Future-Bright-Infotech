{
 "cells": [
  {
   "cell_type": "code",
   "execution_count": null,
   "id": "166bc79f",
   "metadata": {},
   "outputs": [],
   "source": [
    "# Assignment: Check if a book is available and manage borrowing\n",
    "\n",
    "available_books = [\"Python Basics\", \"Data Science 101\", \"Machine Learning\"]"
   ]
  },
  {
   "cell_type": "code",
   "execution_count": null,
   "id": "0bfada8e",
   "metadata": {},
   "outputs": [],
   "source": [
    "borrowed_books = available_books  # This points to the same list "
   ]
  },
  {
   "cell_type": "code",
   "execution_count": null,
   "id": "4abd5b55",
   "metadata": {},
   "outputs": [],
   "source": [
    "book = input(\"Enter the book you want to borrow: \")"
   ]
  },
  {
   "cell_type": "code",
   "execution_count": null,
   "id": "6d078968",
   "metadata": {},
   "outputs": [],
   "source": [
    "# Membership operator\n",
    "print(\"Is the book available?\", book in available_books)"
   ]
  },
  {
   "cell_type": "code",
   "execution_count": null,
   "id": "06785091",
   "metadata": {},
   "outputs": [],
   "source": [
    "# Identity operator\n",
    "print(\"Is the list of borrowed books the same object as available books?\", borrowed_books is available_books)\n",
    "print(\"Are both lists equal in content?\", borrowed_books == available_books)"
   ]
  },
  {
   "cell_type": "code",
   "execution_count": null,
   "id": "85384a18",
   "metadata": {},
   "outputs": [],
   "source": []
  },
  {
   "cell_type": "code",
   "execution_count": null,
   "id": "afdc0e2a",
   "metadata": {},
   "outputs": [],
   "source": []
  },
  {
   "cell_type": "code",
   "execution_count": null,
   "id": "9cc4d712",
   "metadata": {},
   "outputs": [],
   "source": []
  },
  {
   "cell_type": "code",
   "execution_count": null,
   "id": "b73a13c7",
   "metadata": {},
   "outputs": [],
   "source": []
  },
  {
   "cell_type": "code",
   "execution_count": null,
   "id": "53ac8f3c",
   "metadata": {},
   "outputs": [],
   "source": []
  },
  {
   "cell_type": "code",
   "execution_count": null,
   "id": "5fa9e5a4",
   "metadata": {},
   "outputs": [],
   "source": []
  },
  {
   "cell_type": "code",
   "execution_count": null,
   "id": "cbd9c296",
   "metadata": {},
   "outputs": [],
   "source": []
  }
 ],
 "metadata": {
  "kernelspec": {
   "display_name": "base",
   "language": "python",
   "name": "python3"
  },
  "language_info": {
   "codemirror_mode": {
    "name": "ipython",
    "version": 3
   },
   "file_extension": ".py",
   "mimetype": "text/x-python",
   "name": "python",
   "nbconvert_exporter": "python",
   "pygments_lexer": "ipython3",
   "version": "3.12.4"
  }
 },
 "nbformat": 4,
 "nbformat_minor": 5
}
